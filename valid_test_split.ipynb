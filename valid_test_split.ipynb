{
 "cells": [
  {
   "cell_type": "code",
   "execution_count": 9,
   "metadata": {},
   "outputs": [],
   "source": [
    "import pandas as pd\n",
    "from sklearn.model_selection import StratifiedShuffleSplit\n",
    "\n",
    "df=pd.read_csv('/home/irteam/junghye-dcloud-dir/dscapstone/video2frames_AllFrames_NormalIncluded/test_anno.csv')\n",
    "\n",
    "df_first_frame=df.drop_duplicates(subset=['video_name'])\n",
    "\n",
    "class_counts=df_first_frame['label'].value_counts()\n",
    "\n",
    "# 샘플이 1개인 클래스\n",
    "single_sample_classes=class_counts[class_counts==1].index\n",
    "\n",
    "# 샘플 1개 클래스 포함\n",
    "valid_test_df = df_first_frame[df_first_frame['label'].isin(single_sample_classes)]\n",
    "\n",
    "# 나머지 데이터셋 추출\n",
    "remaining_df = df_first_frame[~df_first_frame['label'].isin(single_sample_classes)]\n",
    "\n",
    "\n",
    "split=StratifiedShuffleSplit(n_splits=1,test_size=0.5,random_state=42)\n",
    "\n",
    "for valid_index,test_index in split.split(remaining_df,remaining_df['label']):\n",
    "    valid_set=remaining_df.iloc[valid_index]\n",
    "    test_set=remaining_df.iloc[test_index]\n",
    "    \n",
    "valid_set=pd.concat([valid_set,valid_test_df])\n",
    "test_set=pd.concat([test_set,valid_test_df])\n",
    "\n",
    "\n",
    "valid_df=df[df['video_name'].isin(valid_set['video_name'])]\n",
    "test_df=df[df['video_name'].isin(test_set['video_name'])]\n",
    "\n",
    "valid_df.to_csv('./video2frames_AllFrames_NormalIncluded/new_valid_anno.csv',index=False)\n",
    "test_df.to_csv('./video2frames_AllFrames_NormalIncluded/new_test_anno.csv',index=False)\n"
   ]
  },
  {
   "cell_type": "code",
   "execution_count": 3,
   "metadata": {},
   "outputs": [
    {
     "data": {
      "text/plain": [
       "label\n",
       "RoadAccidents    23\n",
       "Shooting         19\n",
       "Explosion        18\n",
       "Shoplifting      15\n",
       "Arson             7\n",
       "Burglary          7\n",
       "Robbery           5\n",
       "Fighting          5\n",
       "Vandalism         4\n",
       "Arrest            3\n",
       "Stealing          3\n",
       "Abuse             2\n",
       "Assault           1\n",
       "Name: count, dtype: int64"
      ]
     },
     "execution_count": 3,
     "metadata": {},
     "output_type": "execute_result"
    }
   ],
   "source": [
    "class_counts=df_first_frame['label'].value_counts()\n",
    "class_counts"
   ]
  },
  {
   "cell_type": "markdown",
   "metadata": {},
   "source": [
    "검증"
   ]
  },
  {
   "cell_type": "code",
   "execution_count": 18,
   "metadata": {},
   "outputs": [],
   "source": [
    "new_train=pd.read_csv('./video2frames_AllFrames_NormalIncluded/train_anno.csv')\n",
    "#new_valid=pd.read_csv('./video2frames_AllFrames_NormalIncluded/new_valid_anno.csv')\n",
    "#new_test=pd.read_csv('./video2frames_AllFrames_NormalIncluded/new_test_anno.csv')\n"
   ]
  },
  {
   "cell_type": "code",
   "execution_count": 19,
   "metadata": {},
   "outputs": [
    {
     "data": {
      "text/plain": [
       "label\n",
       "Normal           938696\n",
       "Robbery          228225\n",
       "RoadAccidents    165341\n",
       "Stealing         153282\n",
       "Burglary         136218\n",
       "Abuse             90967\n",
       "Vandalism         72438\n",
       "Arrest            71884\n",
       "Arson             69938\n",
       "Assault           60228\n",
       "Fighting          47241\n",
       "Explosion         37283\n",
       "Shooting          32148\n",
       "Shoplifting       29491\n",
       "Name: count, dtype: int64"
      ]
     },
     "execution_count": 19,
     "metadata": {},
     "output_type": "execute_result"
    }
   ],
   "source": [
    "new_train.label.value_counts()"
   ]
  },
  {
   "cell_type": "code",
   "execution_count": 11,
   "metadata": {},
   "outputs": [
    {
     "data": {
      "text/plain": [
       "label\n",
       "Normal           84189\n",
       "Explosion        18077\n",
       "Shooting         15765\n",
       "Shoplifting      13351\n",
       "RoadAccidents    11530\n",
       "Fighting          8666\n",
       "Stealing          6471\n",
       "Arrest            5518\n",
       "Robbery           4937\n",
       "Vandalism         3993\n",
       "Arson             3975\n",
       "Burglary          3863\n",
       "Assault           2288\n",
       "Abuse             1544\n",
       "Name: count, dtype: int64"
      ]
     },
     "execution_count": 11,
     "metadata": {},
     "output_type": "execute_result"
    }
   ],
   "source": [
    "new_valid.label.value_counts()"
   ]
  },
  {
   "cell_type": "code",
   "execution_count": 12,
   "metadata": {},
   "outputs": [
    {
     "data": {
      "text/plain": [
       "label\n",
       "Normal           75577\n",
       "Shooting         21363\n",
       "Explosion        17658\n",
       "RoadAccidents    14995\n",
       "Shoplifting      14380\n",
       "Arson             9021\n",
       "Burglary          8766\n",
       "Arrest            3629\n",
       "Fighting          3626\n",
       "Robbery           3390\n",
       "Vandalism         2589\n",
       "Stealing          2503\n",
       "Assault           2288\n",
       "Abuse             1412\n",
       "Name: count, dtype: int64"
      ]
     },
     "execution_count": 12,
     "metadata": {},
     "output_type": "execute_result"
    }
   ],
   "source": [
    "new_test.label.value_counts()"
   ]
  }
 ],
 "metadata": {
  "kernelspec": {
   "display_name": "pixt",
   "language": "python",
   "name": "pixt"
  },
  "language_info": {
   "codemirror_mode": {
    "name": "ipython",
    "version": 3
   },
   "file_extension": ".py",
   "mimetype": "text/x-python",
   "name": "python",
   "nbconvert_exporter": "python",
   "pygments_lexer": "ipython3",
   "version": "3.10.12"
  }
 },
 "nbformat": 4,
 "nbformat_minor": 2
}
